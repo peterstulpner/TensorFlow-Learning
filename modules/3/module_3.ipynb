{
 "cells": [
  {
   "cell_type": "code",
   "execution_count": 1,
   "metadata": {},
   "outputs": [],
   "source": [
    "import tensorflow as tf"
   ]
  },
  {
   "cell_type": "markdown",
   "metadata": {},
   "source": [
    "## Regression with Tensorflow:\n",
    "\n",
    "## Regression Analysis\n",
    "- In statistical modelling RA is a set of statistical processes for predicting the relationships between the dependent and independent variable of a problem"
   ]
  },
  {
   "cell_type": "markdown",
   "metadata": {},
   "source": [
    "### Inputs and Outputs:\n",
    "- Alot of the time defining inputs to the problem is required\n",
    "- User one hot numerical encoding normally, called:\n",
    "  - Predictors\n",
    "  - Features\n",
    "  - Covarients\n",
    "\n",
    "Inputs go through a machine learning algorithm (often alreay exists)"
   ]
  },
  {
   "cell_type": "markdown",
   "metadata": {},
   "source": [
    "### Anatomy of a NN:\n",
    "Made up of: input Layer, Hidden Layers and then Output layers\n",
    "\n",
    "### Architecture of a regression mdoel:\n",
    "- Input Layer Shape\n",
    "- Hidden Layers\n",
    "- Neurons per layer\n",
    "- Output layer shape\n",
    "- Hidden activation functions\n",
    "- output activation functions\n",
    "- loss function\n",
    "- optimizer"
   ]
  },
  {
   "cell_type": "code",
   "execution_count": 1,
   "metadata": {},
   "outputs": [],
   "source": [
    "# Importing tensorflow:\n",
    "import tensorflow as tf"
   ]
  },
  {
   "cell_type": "code",
   "execution_count": 2,
   "metadata": {},
   "outputs": [],
   "source": [
    "# Creating data to view and fit:\n",
    "import numpy as np\n",
    "import matplotlib.pyplot as plt\n"
   ]
  },
  {
   "cell_type": "code",
   "execution_count": 6,
   "metadata": {},
   "outputs": [
    {
     "data": {
      "text/plain": [
       "<matplotlib.collections.PathCollection at 0x15db65190>"
      ]
     },
     "execution_count": 6,
     "metadata": {},
     "output_type": "execute_result"
    },
    {
     "data": {
      "image/png": "[encoded data removed]",
      "text/plain": [
       "<Figure size 432x288 with 1 Axes>"
      ]
     },
     "metadata": {
      "needs_background": "light"
     },
     "output_type": "display_data"
    }
   ],
   "source": [
    "x = np.array([-7., -4., -1.0, 2.0, 5.0, 8., 11., 14.])\n",
    "y = np.array([3.0, 6.0, 9.0, 12.0, 15.0, 18.0, 21.0, 24.0])\n",
    "\n",
    "# Visualise:\n",
    "plt.scatter(x,y)"
   ]
  },
  {
   "cell_type": "markdown",
   "metadata": {},
   "source": [
    "### Input and Output shapes:\n"
   ]
  },
  {
   "cell_type": "code",
   "execution_count": 7,
   "metadata": {},
   "outputs": [
    {
     "data": {
      "text/plain": [
       "(<tf.Tensor: shape=(3,), dtype=string, numpy=array([b'bedroom', b'bathroom', b'garage'], dtype=object)>,\n",
       " <tf.Tensor: shape=(1,), dtype=int32, numpy=array([939700], dtype=int32)>)"
      ]
     },
     "execution_count": 7,
     "metadata": {},
     "output_type": "execute_result"
    }
   ],
   "source": [
    "# Create a demo tensor for housing price predictino problem\n",
    "\n",
    "house_info = tf.constant([\"bedroom\", \"bathroom\", \"garage\"])\n",
    "house_price = tf.constant([939700])\n",
    "\n",
    "house_info, house_price"
   ]
  },
  {
   "cell_type": "code",
   "execution_count": 10,
   "metadata": {},
   "outputs": [
    {
     "data": {
      "text/plain": [
       "(((),), ())"
      ]
     },
     "execution_count": 10,
     "metadata": {},
     "output_type": "execute_result"
    }
   ],
   "source": [
    "input_shape = x[0].shape,\n",
    "output_shape = y[0].shape\n",
    "\n",
    "input_shape, output_shape"
   ]
  },
  {
   "cell_type": "markdown",
   "metadata": {},
   "source": [
    "### Going to use 1 X value to predict 1 Y value"
   ]
  },
  {
   "cell_type": "code",
   "execution_count": 11,
   "metadata": {},
   "outputs": [
    {
     "data": {
      "text/plain": [
       "(<tf.Tensor: shape=(8,), dtype=float64, numpy=array([-7., -4., -1.,  2.,  5.,  8., 11., 14.])>,\n",
       " <tf.Tensor: shape=(8,), dtype=float64, numpy=array([ 3.,  6.,  9., 12., 15., 18., 21., 24.])>)"
      ]
     },
     "execution_count": 11,
     "metadata": {},
     "output_type": "execute_result"
    }
   ],
   "source": [
    "# Turn numpy arrays into tensors:\n",
    "X = tf.constant(x)\n",
    "y = tf.constant(y)\n",
    "\n",
    "X, y"
   ]
  },
  {
   "cell_type": "code",
   "execution_count": 12,
   "metadata": {},
   "outputs": [
    {
     "data": {
      "text/plain": [
       "(TensorShape([]), TensorShape([]))"
      ]
     },
     "execution_count": 12,
     "metadata": {},
     "output_type": "execute_result"
    }
   ],
   "source": [
    "input_shape = X[0].shape\n",
    "output_shape = y[0].shape\n",
    "\n",
    "input_shape, output_shape"
   ]
  },
  {
   "cell_type": "markdown",
   "metadata": {},
   "source": [
    "## Steps in modelling:\n",
    "1. Creating a model, define the input and output layers as well as the hidden layers\n",
    "2. Compiliing the model, define the loss function and the optimizer\n",
    "3. Fitting the model"
   ]
  },
  {
   "cell_type": "code",
   "execution_count": 16,
   "metadata": {},
   "outputs": [
    {
     "name": "stdout",
     "output_type": "stream",
     "text": [
      "Epoch 1/15\n",
      "1/1 [==============================] - 0s 110ms/step - loss: 11.5048 - mae: 11.5048\n",
      "Epoch 2/15\n",
      "1/1 [==============================] - 0s 1ms/step - loss: 11.3723 - mae: 11.3723\n",
      "Epoch 3/15\n",
      "1/1 [==============================] - 0s 1ms/step - loss: 11.2398 - mae: 11.2398\n",
      "Epoch 4/15\n",
      "1/1 [==============================] - 0s 1ms/step - loss: 11.1073 - mae: 11.1073\n",
      "Epoch 5/15\n",
      "1/1 [==============================] - 0s 1ms/step - loss: 10.9748 - mae: 10.9748\n",
      "Epoch 6/15\n",
      "1/1 [==============================] - 0s 964us/step - loss: 10.8423 - mae: 10.8423\n",
      "Epoch 7/15\n",
      "1/1 [==============================] - 0s 1ms/step - loss: 10.7098 - mae: 10.7098\n",
      "Epoch 8/15\n",
      "1/1 [==============================] - 0s 1ms/step - loss: 10.5773 - mae: 10.5773\n",
      "Epoch 9/15\n",
      "1/1 [==============================] - 0s 1ms/step - loss: 10.4448 - mae: 10.4448\n",
      "Epoch 10/15\n",
      "1/1 [==============================] - 0s 1ms/step - loss: 10.3123 - mae: 10.3123\n",
      "Epoch 11/15\n",
      "1/1 [==============================] - 0s 1ms/step - loss: 10.1798 - mae: 10.1798\n",
      "Epoch 12/15\n",
      "1/1 [==============================] - 0s 1ms/step - loss: 10.0473 - mae: 10.0473\n",
      "Epoch 13/15\n",
      "1/1 [==============================] - 0s 1ms/step - loss: 9.9148 - mae: 9.9148\n",
      "Epoch 14/15\n",
      "1/1 [==============================] - 0s 1ms/step - loss: 9.7823 - mae: 9.7823\n",
      "Epoch 15/15\n",
      "1/1 [==============================] - 0s 2ms/step - loss: 9.6498 - mae: 9.6498\n"
     ]
    },
    {
     "data": {
      "text/plain": [
       "<keras.callbacks.History at 0x1682e5c10>"
      ]
     },
     "execution_count": 16,
     "metadata": {},
     "output_type": "execute_result"
    }
   ],
   "source": [
    "# Set the seed:\n",
    "tf.random.set_seed(42)\n",
    "\n",
    "# 1. Create a model using the Sequential API\n",
    "model = tf.keras.Sequential([\n",
    "    tf.keras.layers.Dense(1)\n",
    "])\n",
    "\n",
    "# 2. Compile the mode:\n",
    "model.compile(loss=tf.keras.losses.MAE, optimizer=tf.keras.optimizers.SGD(), metrics=[\"mae\"])\n",
    "\n",
    "# 3. Fit the model:\n",
    "model.fit(tf.expand_dims(X, axis=-1), y, epochs=15)\n",
    "\n"
   ]
  },
  {
   "cell_type": "code",
   "execution_count": 17,
   "metadata": {},
   "outputs": [
    {
     "data": {
      "text/plain": [
       "array([[18.766022]], dtype=float32)"
      ]
     },
     "execution_count": 17,
     "metadata": {},
     "output_type": "execute_result"
    }
   ],
   "source": [
    "# Using model to make prediction:\n",
    "model.predict([17.0])"
   ]
  },
  {
   "cell_type": "markdown",
   "metadata": {},
   "source": [
    "### Improving our model:\n",
    "\n",
    "1. Creation:\n",
    "   - Could increase the number of hidden layers in the NN\n",
    "   - Increase the number of neurons in the layers\n",
    "   - Provide it more input data\n",
    "   - Change the activation function\n",
    "2. Compiling:\n",
    "   - Change the optimisation function of the learning rate of the optimisation function\n",
    "3. Fitting a model:\n",
    "   - Fit the model over more epochs"
   ]
  },
  {
   "cell_type": "code",
   "execution_count": 24,
   "metadata": {},
   "outputs": [
    {
     "name": "stdout",
     "output_type": "stream",
     "text": [
      "Epoch 1/100\n",
      "1/1 [==============================] - 0s 169ms/step - loss: 14.0395 - mae: 14.0395\n",
      "Epoch 2/100\n",
      "1/1 [==============================] - 0s 1ms/step - loss: 58.9332 - mae: 58.9332\n",
      "Epoch 3/100\n",
      "1/1 [==============================] - 0s 2ms/step - loss: 11.7141 - mae: 11.7141\n",
      "Epoch 4/100\n",
      "1/1 [==============================] - 0s 1ms/step - loss: 12.6049 - mae: 12.6049\n",
      "Epoch 5/100\n",
      "1/1 [==============================] - 0s 1ms/step - loss: 8.9580 - mae: 8.9580\n",
      "Epoch 6/100\n",
      "1/1 [==============================] - 0s 1ms/step - loss: 8.9200 - mae: 8.9200\n",
      "Epoch 7/100\n",
      "1/1 [==============================] - 0s 1ms/step - loss: 5.3383 - mae: 5.3383\n",
      "Epoch 8/100\n",
      "1/1 [==============================] - 0s 1ms/step - loss: 3.9626 - mae: 3.9626\n",
      "Epoch 9/100\n",
      "1/1 [==============================] - 0s 1ms/step - loss: 3.9932 - mae: 3.9932\n",
      "Epoch 10/100\n",
      "1/1 [==============================] - 0s 1ms/step - loss: 7.6317 - mae: 7.6317\n",
      "Epoch 11/100\n",
      "1/1 [==============================] - 0s 1ms/step - loss: 2.7202 - mae: 2.7202\n",
      "Epoch 12/100\n",
      "1/1 [==============================] - 0s 1ms/step - loss: 5.0914 - mae: 5.0914\n",
      "Epoch 13/100\n",
      "1/1 [==============================] - 0s 2ms/step - loss: 3.9339 - mae: 3.9339\n",
      "Epoch 14/100\n",
      "1/1 [==============================] - 0s 2ms/step - loss: 8.4949 - mae: 8.4949\n",
      "Epoch 15/100\n",
      "1/1 [==============================] - 0s 1ms/step - loss: 0.9147 - mae: 0.9147\n",
      "Epoch 16/100\n",
      "1/1 [==============================] - 0s 1ms/step - loss: 2.4321 - mae: 2.4321\n",
      "Epoch 17/100\n",
      "1/1 [==============================] - 0s 1ms/step - loss: 2.3564 - mae: 2.3564\n",
      "Epoch 18/100\n",
      "1/1 [==============================] - 0s 2ms/step - loss: 1.7741 - mae: 1.7741\n",
      "Epoch 19/100\n",
      "1/1 [==============================] - 0s 1ms/step - loss: 2.1688 - mae: 2.1688\n",
      "Epoch 20/100\n",
      "1/1 [==============================] - 0s 1ms/step - loss: 2.3393 - mae: 2.3393\n",
      "Epoch 21/100\n",
      "1/1 [==============================] - 0s 2ms/step - loss: 1.7959 - mae: 1.7959\n",
      "Epoch 22/100\n",
      "1/1 [==============================] - 0s 1ms/step - loss: 2.1382 - mae: 2.1382\n",
      "Epoch 23/100\n",
      "1/1 [==============================] - 0s 2ms/step - loss: 1.2467 - mae: 1.2467\n",
      "Epoch 24/100\n",
      "1/1 [==============================] - 0s 1ms/step - loss: 1.6222 - mae: 1.6222\n",
      "Epoch 25/100\n",
      "1/1 [==============================] - 0s 2ms/step - loss: 1.8038 - mae: 1.8038\n",
      "Epoch 26/100\n",
      "1/1 [==============================] - 0s 2ms/step - loss: 1.5013 - mae: 1.5013\n",
      "Epoch 27/100\n",
      "1/1 [==============================] - 0s 1ms/step - loss: 2.3139 - mae: 2.3139\n",
      "Epoch 28/100\n",
      "1/1 [==============================] - 0s 2ms/step - loss: 1.7268 - mae: 1.7268\n",
      "Epoch 29/100\n",
      "1/1 [==============================] - 0s 2ms/step - loss: 2.0033 - mae: 2.0033\n",
      "Epoch 30/100\n",
      "1/1 [==============================] - 0s 2ms/step - loss: 2.0737 - mae: 2.0737\n",
      "Epoch 31/100\n",
      "1/1 [==============================] - 0s 1ms/step - loss: 0.9834 - mae: 0.9834\n",
      "Epoch 32/100\n",
      "1/1 [==============================] - 0s 1ms/step - loss: 3.2243 - mae: 3.2243\n",
      "Epoch 33/100\n",
      "1/1 [==============================] - 0s 2ms/step - loss: 1.1926 - mae: 1.1926\n",
      "Epoch 34/100\n",
      "1/1 [==============================] - 0s 2ms/step - loss: 2.8486 - mae: 2.8486\n",
      "Epoch 35/100\n",
      "1/1 [==============================] - 0s 2ms/step - loss: 3.9601 - mae: 3.9601\n",
      "Epoch 36/100\n",
      "1/1 [==============================] - 0s 1ms/step - loss: 3.3459 - mae: 3.3459\n",
      "Epoch 37/100\n",
      "1/1 [==============================] - 0s 1ms/step - loss: 1.0314 - mae: 1.0314\n",
      "Epoch 38/100\n",
      "1/1 [==============================] - 0s 2ms/step - loss: 3.2084 - mae: 3.2084\n",
      "Epoch 39/100\n",
      "1/1 [==============================] - 0s 2ms/step - loss: 3.4023 - mae: 3.4023\n",
      "Epoch 40/100\n",
      "1/1 [==============================] - 0s 3ms/step - loss: 0.9286 - mae: 0.9286\n",
      "Epoch 41/100\n",
      "1/1 [==============================] - 0s 2ms/step - loss: 3.1656 - mae: 3.1656\n",
      "Epoch 42/100\n",
      "1/1 [==============================] - 0s 2ms/step - loss: 4.3388 - mae: 4.3388\n",
      "Epoch 43/100\n",
      "1/1 [==============================] - 0s 2ms/step - loss: 4.3152 - mae: 4.3152\n",
      "Epoch 44/100\n",
      "1/1 [==============================] - 0s 2ms/step - loss: 3.4121 - mae: 3.4121\n",
      "Epoch 45/100\n",
      "1/1 [==============================] - 0s 3ms/step - loss: 1.7787 - mae: 1.7787\n",
      "Epoch 46/100\n",
      "1/1 [==============================] - 0s 2ms/step - loss: 2.4802 - mae: 2.4802\n",
      "Epoch 47/100\n",
      "1/1 [==============================] - 0s 1ms/step - loss: 3.5832 - mae: 3.5832\n",
      "Epoch 48/100\n",
      "1/1 [==============================] - 0s 2ms/step - loss: 2.0676 - mae: 2.0676\n",
      "Epoch 49/100\n",
      "1/1 [==============================] - 0s 1ms/step - loss: 1.7313 - mae: 1.7313\n",
      "Epoch 50/100\n",
      "1/1 [==============================] - 0s 2ms/step - loss: 2.7898 - mae: 2.7898\n",
      "Epoch 51/100\n",
      "1/1 [==============================] - 0s 2ms/step - loss: 2.5616 - mae: 2.5616\n",
      "Epoch 52/100\n",
      "1/1 [==============================] - 0s 2ms/step - loss: 1.2380 - mae: 1.2380\n",
      "Epoch 53/100\n",
      "1/1 [==============================] - 0s 2ms/step - loss: 1.8505 - mae: 1.8505\n",
      "Epoch 54/100\n",
      "1/1 [==============================] - 0s 1ms/step - loss: 2.0039 - mae: 2.0039\n",
      "Epoch 55/100\n",
      "1/1 [==============================] - 0s 2ms/step - loss: 0.8353 - mae: 0.8353\n",
      "Epoch 56/100\n",
      "1/1 [==============================] - 0s 2ms/step - loss: 2.1411 - mae: 2.1411\n",
      "Epoch 57/100\n",
      "1/1 [==============================] - 0s 2ms/step - loss: 2.4507 - mae: 2.4507\n",
      "Epoch 58/100\n",
      "1/1 [==============================] - 0s 1ms/step - loss: 1.7482 - mae: 1.7482\n",
      "Epoch 59/100\n",
      "1/1 [==============================] - 0s 2ms/step - loss: 1.4134 - mae: 1.4134\n",
      "Epoch 60/100\n",
      "1/1 [==============================] - 0s 2ms/step - loss: 2.5965 - mae: 2.5965\n",
      "Epoch 61/100\n",
      "1/1 [==============================] - 0s 2ms/step - loss: 1.4939 - mae: 1.4939\n",
      "Epoch 62/100\n",
      "1/1 [==============================] - 0s 1ms/step - loss: 1.6145 - mae: 1.6145\n",
      "Epoch 63/100\n",
      "1/1 [==============================] - 0s 1ms/step - loss: 1.9285 - mae: 1.9285\n",
      "Epoch 64/100\n",
      "1/1 [==============================] - 0s 2ms/step - loss: 1.2929 - mae: 1.2929\n",
      "Epoch 65/100\n",
      "1/1 [==============================] - 0s 2ms/step - loss: 1.6413 - mae: 1.6413\n",
      "Epoch 66/100\n",
      "1/1 [==============================] - 0s 2ms/step - loss: 1.3044 - mae: 1.3044\n",
      "Epoch 67/100\n",
      "1/1 [==============================] - 0s 1ms/step - loss: 1.9334 - mae: 1.9334\n",
      "Epoch 68/100\n",
      "1/1 [==============================] - 0s 2ms/step - loss: 1.1322 - mae: 1.1322\n",
      "Epoch 69/100\n",
      "1/1 [==============================] - 0s 2ms/step - loss: 1.3387 - mae: 1.3387\n",
      "Epoch 70/100\n",
      "1/1 [==============================] - 0s 2ms/step - loss: 1.1729 - mae: 1.1729\n",
      "Epoch 71/100\n",
      "1/1 [==============================] - 0s 2ms/step - loss: 1.1165 - mae: 1.1165\n",
      "Epoch 72/100\n",
      "1/1 [==============================] - 0s 2ms/step - loss: 0.6581 - mae: 0.6581\n",
      "Epoch 73/100\n",
      "1/1 [==============================] - 0s 2ms/step - loss: 1.7007 - mae: 1.7007\n",
      "Epoch 74/100\n",
      "1/1 [==============================] - 0s 2ms/step - loss: 0.6031 - mae: 0.6031\n",
      "Epoch 75/100\n",
      "1/1 [==============================] - 0s 2ms/step - loss: 2.6946 - mae: 2.6946\n",
      "Epoch 76/100\n",
      "1/1 [==============================] - 0s 2ms/step - loss: 1.8787 - mae: 1.8787\n",
      "Epoch 77/100\n",
      "1/1 [==============================] - 0s 2ms/step - loss: 1.8497 - mae: 1.8497\n",
      "Epoch 78/100\n",
      "1/1 [==============================] - 0s 2ms/step - loss: 2.4329 - mae: 2.4329\n",
      "Epoch 79/100\n",
      "1/1 [==============================] - 0s 2ms/step - loss: 1.3943 - mae: 1.3943\n",
      "Epoch 80/100\n",
      "1/1 [==============================] - 0s 2ms/step - loss: 2.0666 - mae: 2.0666\n",
      "Epoch 81/100\n",
      "1/1 [==============================] - 0s 3ms/step - loss: 2.5296 - mae: 2.5296\n",
      "Epoch 82/100\n",
      "1/1 [==============================] - 0s 1ms/step - loss: 0.9305 - mae: 0.9305\n",
      "Epoch 83/100\n",
      "1/1 [==============================] - 0s 1ms/step - loss: 2.5565 - mae: 2.5565\n",
      "Epoch 84/100\n",
      "1/1 [==============================] - 0s 2ms/step - loss: 3.4862 - mae: 3.4862\n",
      "Epoch 85/100\n",
      "1/1 [==============================] - 0s 2ms/step - loss: 3.4035 - mae: 3.4035\n",
      "Epoch 86/100\n",
      "1/1 [==============================] - 0s 2ms/step - loss: 2.4093 - mae: 2.4093\n",
      "Epoch 87/100\n",
      "1/1 [==============================] - 0s 2ms/step - loss: 0.6557 - mae: 0.6557\n",
      "Epoch 88/100\n",
      "1/1 [==============================] - 0s 2ms/step - loss: 2.1841 - mae: 2.1841\n",
      "Epoch 89/100\n",
      "1/1 [==============================] - 0s 1ms/step - loss: 1.6624 - mae: 1.6624\n",
      "Epoch 90/100\n",
      "1/1 [==============================] - 0s 1ms/step - loss: 1.1608 - mae: 1.1608\n",
      "Epoch 91/100\n",
      "1/1 [==============================] - 0s 2ms/step - loss: 1.6314 - mae: 1.6314\n",
      "Epoch 92/100\n",
      "1/1 [==============================] - 0s 1ms/step - loss: 0.6724 - mae: 0.6724\n",
      "Epoch 93/100\n",
      "1/1 [==============================] - 0s 2ms/step - loss: 2.2405 - mae: 2.2405\n",
      "Epoch 94/100\n",
      "1/1 [==============================] - 0s 3ms/step - loss: 2.2479 - mae: 2.2479\n",
      "Epoch 95/100\n",
      "1/1 [==============================] - 0s 2ms/step - loss: 0.6080 - mae: 0.6080\n",
      "Epoch 96/100\n",
      "1/1 [==============================] - 0s 1ms/step - loss: 0.5013 - mae: 0.5013\n",
      "Epoch 97/100\n",
      "1/1 [==============================] - 0s 2ms/step - loss: 1.9079 - mae: 1.9079\n",
      "Epoch 98/100\n",
      "1/1 [==============================] - 0s 2ms/step - loss: 1.4974 - mae: 1.4974\n",
      "Epoch 99/100\n",
      "1/1 [==============================] - 0s 2ms/step - loss: 1.2205 - mae: 1.2205\n",
      "Epoch 100/100\n",
      "1/1 [==============================] - 0s 2ms/step - loss: 1.5056 - mae: 1.5056\n"
     ]
    },
    {
     "data": {
      "text/plain": [
       "<keras.callbacks.History at 0x16943fc10>"
      ]
     },
     "execution_count": 24,
     "metadata": {},
     "output_type": "execute_result"
    }
   ],
   "source": [
    "# Larger model:\n",
    "\n",
    "model = tf.keras.Sequential()\n",
    "\n",
    "# Hidden Layers:\n",
    "model.add(tf.keras.layers.Dense(100, activation=\"relu\"))\n",
    "model.add(tf.keras.layers.Dense(100, activation=\"relu\"))\n",
    "model.add(tf.keras.layers.Dense(100, activation=\"relu\"))\n",
    "model.add(tf.keras.layers.Dense(1))\n",
    "\n",
    "model.compile(loss=tf.keras.losses.mae, optimizer=tf.keras.optimizers.Adam(learning_rate=0.1), metrics=[\"mae\"])\n",
    "\n",
    "model.fit(tf.expand_dims(X, axis=-1), y, epochs=100)"
   ]
  },
  {
   "cell_type": "code",
   "execution_count": 25,
   "metadata": {},
   "outputs": [
    {
     "data": {
      "text/plain": [
       "array([[27.626812]], dtype=float32)"
      ]
     },
     "execution_count": 25,
     "metadata": {},
     "output_type": "execute_result"
    }
   ],
   "source": [
    "model.predict([17])"
   ]
  },
  {
   "cell_type": "markdown",
   "metadata": {},
   "source": [
    "### Evaluating a Model:\n",
    "\n",
    "In practice a typical workflow is:\n",
    "```\n",
    "build a model -> fit it -> evaluate -> tweka it -> fit -> eval -> rinse and repeat\n",
    "```\n",
    "\n",
    "Beacuse each parameter can be altered they are refered to as ***hyper peramters***\n",
    "\n",
    "***Visualisation*** is key to evaluation\n",
    "\n",
    "Visualise the:\n",
    "- Data\n",
    "- Model itself\n",
    "- Model training\n",
    "- predictions of the mode"
   ]
  },
  {
   "cell_type": "code",
   "execution_count": 7,
   "metadata": {},
   "outputs": [],
   "source": [
    "# Make a bigger datasetL\n",
    "\n",
    "X = tf.range(-100, 100, 4)\n",
    "\n",
    "# Make labels for the dataset:\n",
    "\n",
    "y = X + 10"
   ]
  },
  {
   "cell_type": "code",
   "execution_count": 8,
   "metadata": {},
   "outputs": [
    {
     "data": {
      "text/plain": [
       "<matplotlib.collections.PathCollection at 0x161469790>"
      ]
     },
     "execution_count": 8,
     "metadata": {},
     "output_type": "execute_result"
    },
    {
     "data": {
      "image/png": "[encoded data removed]",
      "text/plain": [
       "<Figure size 432x288 with 1 Axes>"
      ]
     },
     "metadata": {
      "needs_background": "light"
     },
     "output_type": "display_data"
    }
   ],
   "source": [
    "# Visualising the input data:\n",
    "plt.scatter(X, y)"
   ]
  },
  {
   "cell_type": "markdown",
   "metadata": {},
   "source": [
    "### The three sets of data:\n",
    "\n",
    "* Traning set - the set the model learns from (70-80% of data)\n",
    "* Validation set - model gets tuned on this data (10-15% of data)\n",
    "* Test set - model gets evaluated on this data to test learning (10-15%) of the data\n",
    "\n",
    "Aiming for the neaural network to achieve generalisation"
   ]
  },
  {
   "cell_type": "code",
   "execution_count": 9,
   "metadata": {},
   "outputs": [
    {
     "data": {
      "text/plain": [
       "50"
      ]
     },
     "execution_count": 9,
     "metadata": {},
     "output_type": "execute_result"
    }
   ],
   "source": [
    "# Check the length of samples:\n",
    "len(X)"
   ]
  },
  {
   "cell_type": "code",
   "execution_count": 10,
   "metadata": {},
   "outputs": [],
   "source": [
    "# As we only have small sample we will skip the validation set:\n",
    "\n",
    "# Split the data into train and test sets\n",
    "\n",
    "X_train = X[:40] # first 40 samples\n",
    "y_train = y[:40]\n",
    "\n",
    "X_test = X[40:]  # Last 19 samples\n",
    "y_test = y[40:]"
   ]
  },
  {
   "cell_type": "code",
   "execution_count": 33,
   "metadata": {},
   "outputs": [
    {
     "name": "stdout",
     "output_type": "stream",
     "text": [
      "Epoch 1/100\n",
      "2/2 [==============================] - 0s 1ms/step - loss: 63.2266 - mae: 63.2266\n",
      "Epoch 2/100\n",
      "2/2 [==============================] - 0s 1ms/step - loss: 18.1970 - mae: 18.1970\n",
      "Epoch 3/100\n",
      "2/2 [==============================] - 0s 1ms/step - loss: 16.1662 - mae: 16.1662\n",
      "Epoch 4/100\n",
      "2/2 [==============================] - 0s 854us/step - loss: 10.1129 - mae: 10.1129\n",
      "Epoch 5/100\n",
      "2/2 [==============================] - 0s 866us/step - loss: 15.5271 - mae: 15.5271\n",
      "Epoch 6/100\n",
      "2/2 [==============================] - 0s 877us/step - loss: 11.8406 - mae: 11.8406\n",
      "Epoch 7/100\n",
      "2/2 [==============================] - 0s 691us/step - loss: 9.1482 - mae: 9.1482\n",
      "Epoch 8/100\n",
      "2/2 [==============================] - 0s 935us/step - loss: 13.6424 - mae: 13.6424\n",
      "Epoch 9/100\n",
      "2/2 [==============================] - 0s 704us/step - loss: 13.9040 - mae: 13.9040\n",
      "Epoch 10/100\n",
      "2/2 [==============================] - 0s 1ms/step - loss: 10.0136 - mae: 10.0136\n",
      "Epoch 11/100\n",
      "2/2 [==============================] - 0s 859us/step - loss: 9.9856 - mae: 9.9856\n",
      "Epoch 12/100\n",
      "2/2 [==============================] - 0s 952us/step - loss: 9.9267 - mae: 9.9267\n",
      "Epoch 13/100\n",
      "2/2 [==============================] - 0s 1ms/step - loss: 9.7649 - mae: 9.7649\n",
      "Epoch 14/100\n",
      "2/2 [==============================] - 0s 1ms/step - loss: 10.5656 - mae: 10.5656\n",
      "Epoch 15/100\n",
      "2/2 [==============================] - 0s 1ms/step - loss: 13.7844 - mae: 13.7844\n",
      "Epoch 16/100\n",
      "2/2 [==============================] - 0s 903us/step - loss: 12.3916 - mae: 12.3916\n",
      "Epoch 17/100\n",
      "2/2 [==============================] - 0s 1ms/step - loss: 10.1895 - mae: 10.1895\n",
      "Epoch 18/100\n",
      "2/2 [==============================] - 0s 1ms/step - loss: 10.6696 - mae: 10.6696\n",
      "Epoch 19/100\n",
      "2/2 [==============================] - 0s 1ms/step - loss: 10.0831 - mae: 10.0831\n",
      "Epoch 20/100\n",
      "2/2 [==============================] - 0s 1ms/step - loss: 10.8775 - mae: 10.8775\n",
      "Epoch 21/100\n",
      "2/2 [==============================] - 0s 792us/step - loss: 12.1006 - mae: 12.1006\n",
      "Epoch 22/100\n",
      "2/2 [==============================] - 0s 1ms/step - loss: 9.5903 - mae: 9.5903\n",
      "Epoch 23/100\n",
      "2/2 [==============================] - 0s 1ms/step - loss: 8.9995 - mae: 8.9995\n",
      "Epoch 24/100\n",
      "2/2 [==============================] - 0s 1ms/step - loss: 9.8105 - mae: 9.8105\n",
      "Epoch 25/100\n",
      "2/2 [==============================] - 0s 1ms/step - loss: 9.7070 - mae: 9.7070\n",
      "Epoch 26/100\n",
      "2/2 [==============================] - 0s 897us/step - loss: 9.8359 - mae: 9.8359\n",
      "Epoch 27/100\n",
      "2/2 [==============================] - 0s 1ms/step - loss: 9.9016 - mae: 9.9016\n",
      "Epoch 28/100\n",
      "2/2 [==============================] - 0s 988us/step - loss: 9.6553 - mae: 9.6553\n",
      "Epoch 29/100\n",
      "2/2 [==============================] - 0s 1ms/step - loss: 9.5417 - mae: 9.5417\n",
      "Epoch 30/100\n",
      "2/2 [==============================] - 0s 914us/step - loss: 9.7986 - mae: 9.7986\n",
      "Epoch 31/100\n",
      "2/2 [==============================] - 0s 846us/step - loss: 8.8714 - mae: 8.8714\n",
      "Epoch 32/100\n",
      "2/2 [==============================] - 0s 1ms/step - loss: 9.8203 - mae: 9.8203\n",
      "Epoch 33/100\n",
      "2/2 [==============================] - 0s 876us/step - loss: 9.4605 - mae: 9.4605\n",
      "Epoch 34/100\n",
      "2/2 [==============================] - 0s 1ms/step - loss: 9.7860 - mae: 9.7860\n",
      "Epoch 35/100\n",
      "2/2 [==============================] - 0s 839us/step - loss: 11.9235 - mae: 11.9235\n",
      "Epoch 36/100\n",
      "2/2 [==============================] - 0s 1ms/step - loss: 11.6355 - mae: 11.6355\n",
      "Epoch 37/100\n",
      "2/2 [==============================] - 0s 2ms/step - loss: 10.8955 - mae: 10.8955\n",
      "Epoch 38/100\n",
      "2/2 [==============================] - 0s 1ms/step - loss: 9.5492 - mae: 9.5492\n",
      "Epoch 39/100\n",
      "2/2 [==============================] - 0s 1ms/step - loss: 12.6671 - mae: 12.6671\n",
      "Epoch 40/100\n",
      "2/2 [==============================] - 0s 921us/step - loss: 11.7218 - mae: 11.7218\n",
      "Epoch 41/100\n",
      "2/2 [==============================] - 0s 1ms/step - loss: 11.4887 - mae: 11.4887\n",
      "Epoch 42/100\n",
      "2/2 [==============================] - 0s 1ms/step - loss: 9.3621 - mae: 9.3621\n",
      "Epoch 43/100\n",
      "2/2 [==============================] - 0s 792us/step - loss: 9.6971 - mae: 9.6971\n",
      "Epoch 44/100\n",
      "2/2 [==============================] - 0s 969us/step - loss: 9.5317 - mae: 9.5317\n",
      "Epoch 45/100\n",
      "2/2 [==============================] - 0s 942us/step - loss: 9.6652 - mae: 9.6652\n",
      "Epoch 46/100\n",
      "2/2 [==============================] - 0s 743us/step - loss: 9.1775 - mae: 9.1775\n",
      "Epoch 47/100\n",
      "2/2 [==============================] - 0s 887us/step - loss: 9.2786 - mae: 9.2786\n",
      "Epoch 48/100\n",
      "2/2 [==============================] - 0s 832us/step - loss: 9.6900 - mae: 9.6900\n",
      "Epoch 49/100\n",
      "2/2 [==============================] - 0s 915us/step - loss: 13.8231 - mae: 13.8231\n",
      "Epoch 50/100\n",
      "2/2 [==============================] - 0s 922us/step - loss: 8.7587 - mae: 8.7587\n",
      "Epoch 51/100\n",
      "2/2 [==============================] - 0s 1ms/step - loss: 10.9927 - mae: 10.9927\n",
      "Epoch 52/100\n",
      "2/2 [==============================] - 0s 981us/step - loss: 9.0812 - mae: 9.0812\n",
      "Epoch 53/100\n",
      "2/2 [==============================] - 0s 939us/step - loss: 9.8837 - mae: 9.8837\n",
      "Epoch 54/100\n",
      "2/2 [==============================] - 0s 1ms/step - loss: 16.6648 - mae: 16.6648\n",
      "Epoch 55/100\n",
      "2/2 [==============================] - 0s 1ms/step - loss: 9.8236 - mae: 9.8236\n",
      "Epoch 56/100\n",
      "2/2 [==============================] - 0s 703us/step - loss: 12.3396 - mae: 12.3396\n",
      "Epoch 57/100\n",
      "2/2 [==============================] - 0s 827us/step - loss: 9.1796 - mae: 9.1796\n",
      "Epoch 58/100\n",
      "2/2 [==============================] - 0s 978us/step - loss: 9.2536 - mae: 9.2536\n",
      "Epoch 59/100\n",
      "2/2 [==============================] - 0s 1ms/step - loss: 9.0739 - mae: 9.0739\n",
      "Epoch 60/100\n",
      "2/2 [==============================] - 0s 1ms/step - loss: 10.5225 - mae: 10.5225\n",
      "Epoch 61/100\n",
      "2/2 [==============================] - 0s 964us/step - loss: 9.1356 - mae: 9.1356\n",
      "Epoch 62/100\n",
      "2/2 [==============================] - 0s 1ms/step - loss: 9.9638 - mae: 9.9638\n",
      "Epoch 63/100\n",
      "2/2 [==============================] - 0s 991us/step - loss: 12.0015 - mae: 12.0015\n",
      "Epoch 64/100\n",
      "2/2 [==============================] - 0s 793us/step - loss: 9.5175 - mae: 9.5175\n",
      "Epoch 65/100\n",
      "2/2 [==============================] - 0s 1ms/step - loss: 9.0046 - mae: 9.0046\n",
      "Epoch 66/100\n",
      "2/2 [==============================] - 0s 874us/step - loss: 8.9988 - mae: 8.9988\n",
      "Epoch 67/100\n",
      "2/2 [==============================] - 0s 1ms/step - loss: 9.1140 - mae: 9.1140\n",
      "Epoch 68/100\n",
      "2/2 [==============================] - 0s 956us/step - loss: 9.2258 - mae: 9.2258\n",
      "Epoch 69/100\n",
      "2/2 [==============================] - 0s 928us/step - loss: 9.2211 - mae: 9.2211\n",
      "Epoch 70/100\n",
      "2/2 [==============================] - 0s 958us/step - loss: 9.4810 - mae: 9.4810\n",
      "Epoch 71/100\n",
      "2/2 [==============================] - 0s 1ms/step - loss: 8.9262 - mae: 8.9262\n",
      "Epoch 72/100\n",
      "2/2 [==============================] - 0s 3ms/step - loss: 10.0049 - mae: 10.0049\n",
      "Epoch 73/100\n",
      "2/2 [==============================] - 0s 3ms/step - loss: 11.9554 - mae: 11.9554\n",
      "Epoch 74/100\n",
      "2/2 [==============================] - 0s 2ms/step - loss: 8.6053 - mae: 8.6053\n",
      "Epoch 75/100\n",
      "2/2 [==============================] - 0s 7ms/step - loss: 8.7896 - mae: 8.7896\n",
      "Epoch 76/100\n",
      "2/2 [==============================] - 0s 6ms/step - loss: 8.8352 - mae: 8.8352\n",
      "Epoch 77/100\n",
      "2/2 [==============================] - 0s 2ms/step - loss: 8.2212 - mae: 8.2212\n",
      "Epoch 78/100\n",
      "2/2 [==============================] - 0s 2ms/step - loss: 11.2140 - mae: 11.2140\n",
      "Epoch 79/100\n",
      "2/2 [==============================] - 0s 1ms/step - loss: 9.5670 - mae: 9.5670\n",
      "Epoch 80/100\n",
      "2/2 [==============================] - 0s 2ms/step - loss: 13.2009 - mae: 13.2009\n",
      "Epoch 81/100\n",
      "2/2 [==============================] - 0s 2ms/step - loss: 14.3431 - mae: 14.3431\n",
      "Epoch 82/100\n",
      "2/2 [==============================] - 0s 1ms/step - loss: 16.2888 - mae: 16.2888\n",
      "Epoch 83/100\n",
      "2/2 [==============================] - 0s 2ms/step - loss: 9.5796 - mae: 9.5796\n",
      "Epoch 84/100\n",
      "2/2 [==============================] - 0s 1ms/step - loss: 8.6682 - mae: 8.6682\n",
      "Epoch 85/100\n",
      "2/2 [==============================] - 0s 4ms/step - loss: 8.7672 - mae: 8.7672\n",
      "Epoch 86/100\n",
      "2/2 [==============================] - 0s 952us/step - loss: 9.0354 - mae: 9.0354\n",
      "Epoch 87/100\n",
      "2/2 [==============================] - 0s 1ms/step - loss: 9.1914 - mae: 9.1914\n",
      "Epoch 88/100\n",
      "2/2 [==============================] - 0s 1ms/step - loss: 8.7396 - mae: 8.7396\n",
      "Epoch 89/100\n",
      "2/2 [==============================] - 0s 789us/step - loss: 8.8827 - mae: 8.8827\n",
      "Epoch 90/100\n",
      "2/2 [==============================] - 0s 1ms/step - loss: 8.6921 - mae: 8.6921\n",
      "Epoch 91/100\n",
      "2/2 [==============================] - 0s 916us/step - loss: 8.7421 - mae: 8.7421\n",
      "Epoch 92/100\n",
      "2/2 [==============================] - 0s 929us/step - loss: 8.6088 - mae: 8.6088\n",
      "Epoch 93/100\n",
      "2/2 [==============================] - 0s 1ms/step - loss: 9.2006 - mae: 9.2006\n",
      "Epoch 94/100\n",
      "2/2 [==============================] - 0s 2ms/step - loss: 9.9274 - mae: 9.9274\n",
      "Epoch 95/100\n",
      "2/2 [==============================] - 0s 2ms/step - loss: 12.8511 - mae: 12.8511\n",
      "Epoch 96/100\n",
      "2/2 [==============================] - 0s 1ms/step - loss: 9.1768 - mae: 9.1768\n",
      "Epoch 97/100\n",
      "2/2 [==============================] - 0s 1ms/step - loss: 10.5582 - mae: 10.5582\n",
      "Epoch 98/100\n",
      "2/2 [==============================] - 0s 693us/step - loss: 14.7756 - mae: 14.7756\n",
      "Epoch 99/100\n",
      "2/2 [==============================] - 0s 1ms/step - loss: 10.8706 - mae: 10.8706\n",
      "Epoch 100/100\n",
      "2/2 [==============================] - 0s 879us/step - loss: 14.9341 - mae: 14.9341\n"
     ]
    },
    {
     "data": {
      "text/plain": [
       "<keras.callbacks.History at 0x1697d79a0>"
      ]
     },
     "execution_count": 33,
     "metadata": {},
     "output_type": "execute_result"
    }
   ],
   "source": [
    "model = tf.keras.Sequential()\n",
    "\n",
    "model.add(tf.keras.layers.Dense(1))\n",
    "\n",
    "model.compile(loss=tf.keras.losses.mae, optimizer=tf.keras.optimizers.SGD(), metrics=[\"mae\"])\n",
    "\n",
    "model.fit(tf.expand_dims(X, axis=-1), y, epochs=100)\n"
   ]
  },
  {
   "cell_type": "code",
   "execution_count": 26,
   "metadata": {},
   "outputs": [
    {
     "name": "stdout",
     "output_type": "stream",
     "text": [
      "Model: \"sequential_1\"\n",
      "_________________________________________________________________\n",
      " Layer (type)                Output Shape              Param #   \n",
      "=================================================================\n",
      " dense_1 (Dense)             (None, 1)                 2         \n",
      "                                                                 \n",
      "=================================================================\n",
      "Total params: 2\n",
      "Trainable params: 2\n",
      "Non-trainable params: 0\n",
      "_________________________________________________________________\n"
     ]
    }
   ],
   "source": [
    "# Create a model which builds automatically by defining th input shape arg:\n",
    "tf.random.set_seed(42)\n",
    "\n",
    "model = tf.keras.Sequential([\n",
    "    tf.keras.layers.Dense(1, input_shape=[1])\n",
    "])\n",
    "\n",
    "model.compile(loss=tf.keras.losses.mae, optimizer=tf.keras.optimizers.SGD(), metrics=[\"mae\"])\n",
    "\n",
    "model.summary()"
   ]
  },
  {
   "cell_type": "markdown",
   "metadata": {},
   "source": [
    "### model.summary() gives the layers, output shape and the parameters, Dense is a fully connected layer\n",
    "\n",
    "* Total params: Total number of parameters in the model\n",
    "* Trainable parameters: parameters the model can update as it trains\n",
    "* Non-trainable parameters: Paramters that are not updated when trained, occurs when brining in pretrained models to learn using transfer learning\n",
    "\n",
    "### Weights and Biases\n",
    "* Each dense layer contains weights and biases for each layer, these are changed during the learning in order to come to better learning conclusions"
   ]
  },
  {
   "cell_type": "code",
   "execution_count": 27,
   "metadata": {},
   "outputs": [
    {
     "data": {
      "text/plain": [
       "10"
      ]
     },
     "execution_count": 27,
     "metadata": {},
     "output_type": "execute_result"
    }
   ],
   "source": [
    "model.fit(tf.expand_dims(X_train, axis=-1), y_train, epochs=100, verbose=0)\n",
    "\n",
    "y_pred = model.predict(X_test)\n",
    "y_pred.size\n"
   ]
  },
  {
   "cell_type": "code",
   "execution_count": 57,
   "metadata": {},
   "outputs": [
    {
     "name": "stdout",
     "output_type": "stream",
     "text": [
      "You must install pydot (`pip install pydot`) and install graphviz (see instructions at https://graphviz.gitlab.io/download/) for plot_model/model_to_dot to work.\n"
     ]
    }
   ],
   "source": [
    "from tensorflow.keras.utils import plot_model\n",
    "\n",
    "plot_model(model=model, show_shapes=True)"
   ]
  },
  {
   "cell_type": "code",
   "execution_count": 3,
   "metadata": {},
   "outputs": [
    {
     "name": "stdout",
     "output_type": "stream",
     "text": [
      "Model: \"Model 1\"\n",
      "_________________________________________________________________\n",
      " Layer (type)                Output Shape              Param #   \n",
      "=================================================================\n",
      " input_layer (Dense)         (None, 10)                20        \n",
      "                                                                 \n",
      " output_layer (Dense)        (None, 1)                 11        \n",
      "                                                                 \n",
      "=================================================================\n",
      "Total params: 31\n",
      "Trainable params: 31\n",
      "Non-trainable params: 0\n",
      "_________________________________________________________________\n"
     ]
    }
   ],
   "source": [
    "model = tf.keras.Sequential(name=\"Model 1\")\n",
    "\n",
    "model.add(tf.keras.layers.Dense(10, input_shape=[1], name=\"input_layer\"))\n",
    "model.add(tf.keras.layers.Dense(1, name=\"output_layer\"))\n",
    "\n",
    "model.summary()"
   ]
  },
  {
   "cell_type": "code",
   "execution_count": 28,
   "metadata": {},
   "outputs": [
    {
     "data": {
      "image/png": "[encoded data removed]",
      "text/plain": [
       "<Figure size 720x504 with 1 Axes>"
      ]
     },
     "metadata": {
      "needs_background": "light"
     },
     "output_type": "display_data"
    }
   ],
   "source": [
    "## Creating a plotting function\n",
    "def plot_prediction(train_data=X_train, train_labels=y_train, test_data=X_test, test_labels=y_test, predictions=y_pred):\n",
    "    plt.figure(figsize=(10, 7))\n",
    "\n",
    "    plt.scatter(train_data, train_labels, c=\"b\", label=\"Training Data\")\n",
    "\n",
    "    plt.scatter(test_data, test_labels, c=\"g\", label=\"Test Data\")\n",
    "\n",
    "    plt.scatter(test_data, predictions, c=\"r\", label=\"Predictions\")\n",
    "\n",
    "    plt.legend()\n",
    "\n",
    "plot_prediction()"
   ]
  },
  {
   "cell_type": "markdown",
   "metadata": {},
   "source": [
    "### Evaluation Metrics:\n",
    "Depending on problem there a different metrics to consider\n",
    "\n",
    "As we are working on a regression problem 2 metrics are:\n",
    "1. MAE - Mean Absolute Error\n",
    "2. MSE - Mean Square Error (MAE)^2 - Use when larger erros are more significatn than smaller error\n",
    "3. Huber Combination of MSE and MAE, less sensitive to outliers than MSE"
   ]
  },
  {
   "cell_type": "code",
   "execution_count": 29,
   "metadata": {},
   "outputs": [
    {
     "name": "stdout",
     "output_type": "stream",
     "text": [
      "1/1 [==============================] - 0s 49ms/step - loss: 18.7453 - mae: 18.7453\n"
     ]
    },
    {
     "data": {
      "text/plain": [
       "[18.74532699584961, 18.74532699584961]"
      ]
     },
     "execution_count": 29,
     "metadata": {},
     "output_type": "execute_result"
    }
   ],
   "source": [
    "# Evaluate the model on the test set:\n",
    "model.evaluate(X_test, y_test)"
   ]
  },
  {
   "cell_type": "code",
   "execution_count": 34,
   "metadata": {},
   "outputs": [
    {
     "data": {
      "text/plain": [
       "<tf.Tensor: shape=(), dtype=float32, numpy=18.745327>"
      ]
     },
     "execution_count": 34,
     "metadata": {},
     "output_type": "execute_result"
    }
   ],
   "source": [
    "# Calcualte the MAE without the model:\n",
    "tf.metrics.mean_absolute_error(y_test, tf.squeeze(tf.constant(y_pred))) # Need to ensure that both are tensors AND they have matching shapes"
   ]
  },
  {
   "cell_type": "code",
   "execution_count": 35,
   "metadata": {},
   "outputs": [
    {
     "data": {
      "text/plain": [
       "<tf.Tensor: shape=(), dtype=float32, numpy=353.57336>"
      ]
     },
     "execution_count": 35,
     "metadata": {},
     "output_type": "execute_result"
    }
   ],
   "source": [
    "# Calculating MSE:\n",
    "tf.metrics.mean_squared_error(y_test, tf.squeeze(tf.constant(y_pred)))"
   ]
  },
  {
   "cell_type": "code",
   "execution_count": 44,
   "metadata": {},
   "outputs": [],
   "source": [
    "def mae(y_true, y_pred):\n",
    "    return tf.metrics.mean_absolute_error(y_true=y_true, y_pred=tf.squeeze(y_pred))\n",
    "\n",
    "def mse(y_true, y_pred):\n",
    "    return tf.metrics.mean_squared_error(y_true=y_true, y_pred=tf.squeeze(y_pred))\n",
    "\n"
   ]
  },
  {
   "cell_type": "code",
   "execution_count": 37,
   "metadata": {},
   "outputs": [],
   "source": [
    "### Running experiments to improve our model:"
   ]
  },
  {
   "cell_type": "markdown",
   "metadata": {},
   "source": [
    "### Experiments:\n",
    "1. Same as original model, 1 layer trained for 100 epochs\n",
    "2. 2 layers, 100 epochs\n",
    "3. 2 layer 500 epochs"
   ]
  },
  {
   "cell_type": "code",
   "execution_count": 40,
   "metadata": {},
   "outputs": [
    {
     "name": "stdout",
     "output_type": "stream",
     "text": [
      "Epoch 1/100\n",
      "2/2 [==============================] - 0s 1ms/step - loss: 15.9024 - mae: 15.9024\n",
      "Epoch 2/100\n",
      "2/2 [==============================] - 0s 646us/step - loss: 11.2837 - mae: 11.2837\n",
      "Epoch 3/100\n",
      "2/2 [==============================] - 0s 666us/step - loss: 11.1075 - mae: 11.1075\n",
      "Epoch 4/100\n",
      "2/2 [==============================] - 0s 1ms/step - loss: 9.2990 - mae: 9.2990\n",
      "Epoch 5/100\n",
      "2/2 [==============================] - 0s 1ms/step - loss: 10.1677 - mae: 10.1677\n",
      "Epoch 6/100\n",
      "2/2 [==============================] - 0s 919us/step - loss: 9.4303 - mae: 9.4303\n",
      "Epoch 7/100\n",
      "2/2 [==============================] - 0s 823us/step - loss: 8.5704 - mae: 8.5704\n",
      "Epoch 8/100\n",
      "2/2 [==============================] - 0s 858us/step - loss: 9.0442 - mae: 9.0442\n",
      "Epoch 9/100\n",
      "2/2 [==============================] - 0s 2ms/step - loss: 18.7517 - mae: 18.7517\n",
      "Epoch 10/100\n",
      "2/2 [==============================] - 0s 852us/step - loss: 10.1142 - mae: 10.1142\n",
      "Epoch 11/100\n",
      "2/2 [==============================] - 0s 882us/step - loss: 8.3980 - mae: 8.3980\n",
      "Epoch 12/100\n",
      "2/2 [==============================] - 0s 901us/step - loss: 10.6639 - mae: 10.6639\n",
      "Epoch 13/100\n",
      "2/2 [==============================] - 0s 1ms/step - loss: 9.7977 - mae: 9.7977\n",
      "Epoch 14/100\n",
      "2/2 [==============================] - 0s 944us/step - loss: 16.0103 - mae: 16.0103\n",
      "Epoch 15/100\n",
      "2/2 [==============================] - 0s 1ms/step - loss: 11.4068 - mae: 11.4068\n",
      "Epoch 16/100\n",
      "2/2 [==============================] - 0s 1ms/step - loss: 8.5393 - mae: 8.5393\n",
      "Epoch 17/100\n",
      "2/2 [==============================] - 0s 1ms/step - loss: 13.6348 - mae: 13.6348\n",
      "Epoch 18/100\n",
      "2/2 [==============================] - 0s 966us/step - loss: 11.4629 - mae: 11.4629\n",
      "Epoch 19/100\n",
      "2/2 [==============================] - 0s 1ms/step - loss: 17.9148 - mae: 17.9148\n",
      "Epoch 20/100\n",
      "2/2 [==============================] - 0s 861us/step - loss: 15.0494 - mae: 15.0494\n",
      "Epoch 21/100\n",
      "2/2 [==============================] - 0s 1ms/step - loss: 11.0216 - mae: 11.0216\n",
      "Epoch 22/100\n",
      "2/2 [==============================] - 0s 717us/step - loss: 8.1558 - mae: 8.1558\n",
      "Epoch 23/100\n",
      "2/2 [==============================] - 0s 1ms/step - loss: 9.5138 - mae: 9.5138\n",
      "Epoch 24/100\n",
      "2/2 [==============================] - 0s 1ms/step - loss: 7.6617 - mae: 7.6617\n",
      "Epoch 25/100\n",
      "2/2 [==============================] - 0s 866us/step - loss: 13.1859 - mae: 13.1859\n",
      "Epoch 26/100\n",
      "2/2 [==============================] - 0s 1ms/step - loss: 16.4211 - mae: 16.4211\n",
      "Epoch 27/100\n",
      "2/2 [==============================] - 0s 1ms/step - loss: 13.1660 - mae: 13.1660\n",
      "Epoch 28/100\n",
      "2/2 [==============================] - 0s 1ms/step - loss: 14.2559 - mae: 14.2559\n",
      "Epoch 29/100\n",
      "2/2 [==============================] - 0s 1ms/step - loss: 10.0670 - mae: 10.0670\n",
      "Epoch 30/100\n",
      "2/2 [==============================] - 0s 846us/step - loss: 16.3409 - mae: 16.3409\n",
      "Epoch 31/100\n",
      "2/2 [==============================] - 0s 1ms/step - loss: 23.6444 - mae: 23.6444\n",
      "Epoch 32/100\n",
      "2/2 [==============================] - 0s 993us/step - loss: 7.6215 - mae: 7.6215\n",
      "Epoch 33/100\n",
      "2/2 [==============================] - 0s 1ms/step - loss: 9.3221 - mae: 9.3221\n",
      "Epoch 34/100\n",
      "2/2 [==============================] - 0s 933us/step - loss: 13.7313 - mae: 13.7313\n",
      "Epoch 35/100\n",
      "2/2 [==============================] - 0s 1ms/step - loss: 11.1276 - mae: 11.1276\n",
      "Epoch 36/100\n",
      "2/2 [==============================] - 0s 1ms/step - loss: 13.3222 - mae: 13.3222\n",
      "Epoch 37/100\n",
      "2/2 [==============================] - 0s 1ms/step - loss: 9.4763 - mae: 9.4763\n",
      "Epoch 38/100\n",
      "2/2 [==============================] - 0s 1ms/step - loss: 10.1381 - mae: 10.1381\n",
      "Epoch 39/100\n",
      "2/2 [==============================] - 0s 1ms/step - loss: 10.1793 - mae: 10.1793\n",
      "Epoch 40/100\n",
      "2/2 [==============================] - 0s 2ms/step - loss: 10.9137 - mae: 10.9137\n",
      "Epoch 41/100\n",
      "2/2 [==============================] - 0s 937us/step - loss: 7.9063 - mae: 7.9063\n",
      "Epoch 42/100\n",
      "2/2 [==============================] - 0s 850us/step - loss: 10.0914 - mae: 10.0914\n",
      "Epoch 43/100\n",
      "2/2 [==============================] - 0s 1ms/step - loss: 8.7006 - mae: 8.7006\n",
      "Epoch 44/100\n",
      "2/2 [==============================] - 0s 2ms/step - loss: 12.2046 - mae: 12.2046\n",
      "Epoch 45/100\n",
      "2/2 [==============================] - 0s 1ms/step - loss: 13.7970 - mae: 13.7970\n",
      "Epoch 46/100\n",
      "2/2 [==============================] - 0s 960us/step - loss: 8.4687 - mae: 8.4687\n",
      "Epoch 47/100\n",
      "2/2 [==============================] - 0s 799us/step - loss: 9.1330 - mae: 9.1330\n",
      "Epoch 48/100\n",
      "2/2 [==============================] - 0s 2ms/step - loss: 10.6190 - mae: 10.6190\n",
      "Epoch 49/100\n",
      "2/2 [==============================] - 0s 1ms/step - loss: 7.7503 - mae: 7.7503\n",
      "Epoch 50/100\n",
      "2/2 [==============================] - 0s 1ms/step - loss: 9.5407 - mae: 9.5407\n",
      "Epoch 51/100\n",
      "2/2 [==============================] - 0s 866us/step - loss: 9.1584 - mae: 9.1584\n",
      "Epoch 52/100\n",
      "2/2 [==============================] - 0s 1ms/step - loss: 16.3630 - mae: 16.3630\n",
      "Epoch 53/100\n",
      "2/2 [==============================] - 0s 1ms/step - loss: 14.1299 - mae: 14.1299\n",
      "Epoch 54/100\n",
      "2/2 [==============================] - 0s 1ms/step - loss: 21.1247 - mae: 21.1247\n",
      "Epoch 55/100\n",
      "2/2 [==============================] - 0s 889us/step - loss: 16.3961 - mae: 16.3961\n",
      "Epoch 56/100\n",
      "2/2 [==============================] - 0s 1ms/step - loss: 9.9806 - mae: 9.9806\n",
      "Epoch 57/100\n",
      "2/2 [==============================] - 0s 1ms/step - loss: 9.9606 - mae: 9.9606\n",
      "Epoch 58/100\n",
      "2/2 [==============================] - 0s 1ms/step - loss: 9.2209 - mae: 9.2209\n",
      "Epoch 59/100\n",
      "2/2 [==============================] - 0s 1ms/step - loss: 8.4239 - mae: 8.4239\n",
      "Epoch 60/100\n",
      "2/2 [==============================] - 0s 989us/step - loss: 9.4869 - mae: 9.4869\n",
      "Epoch 61/100\n",
      "2/2 [==============================] - 0s 1ms/step - loss: 11.4354 - mae: 11.4354\n",
      "Epoch 62/100\n",
      "2/2 [==============================] - 0s 1ms/step - loss: 11.6887 - mae: 11.6887\n",
      "Epoch 63/100\n",
      "2/2 [==============================] - 0s 749us/step - loss: 7.0838 - mae: 7.0838\n",
      "Epoch 64/100\n",
      "2/2 [==============================] - 0s 1ms/step - loss: 16.9675 - mae: 16.9675\n",
      "Epoch 65/100\n",
      "2/2 [==============================] - 0s 1ms/step - loss: 12.4599 - mae: 12.4599\n",
      "Epoch 66/100\n",
      "2/2 [==============================] - 0s 1ms/step - loss: 13.0184 - mae: 13.0184\n",
      "Epoch 67/100\n",
      "2/2 [==============================] - 0s 2ms/step - loss: 8.0600 - mae: 8.0600\n",
      "Epoch 68/100\n",
      "2/2 [==============================] - 0s 917us/step - loss: 10.1888 - mae: 10.1888\n",
      "Epoch 69/100\n",
      "2/2 [==============================] - 0s 843us/step - loss: 12.3633 - mae: 12.3633\n",
      "Epoch 70/100\n",
      "2/2 [==============================] - 0s 1ms/step - loss: 9.0516 - mae: 9.0516\n",
      "Epoch 71/100\n",
      "2/2 [==============================] - 0s 1ms/step - loss: 10.0378 - mae: 10.0378\n",
      "Epoch 72/100\n",
      "2/2 [==============================] - 0s 1ms/step - loss: 10.0516 - mae: 10.0516\n",
      "Epoch 73/100\n",
      "2/2 [==============================] - 0s 909us/step - loss: 12.6151 - mae: 12.6151\n",
      "Epoch 74/100\n",
      "2/2 [==============================] - 0s 1ms/step - loss: 10.3819 - mae: 10.3819\n",
      "Epoch 75/100\n",
      "2/2 [==============================] - 0s 970us/step - loss: 9.7229 - mae: 9.7229\n",
      "Epoch 76/100\n",
      "2/2 [==============================] - 0s 1ms/step - loss: 11.2252 - mae: 11.2252\n",
      "Epoch 77/100\n",
      "2/2 [==============================] - 0s 774us/step - loss: 8.3642 - mae: 8.3642\n",
      "Epoch 78/100\n",
      "2/2 [==============================] - 0s 964us/step - loss: 9.1274 - mae: 9.1274\n",
      "Epoch 79/100\n",
      "2/2 [==============================] - 0s 746us/step - loss: 19.5039 - mae: 19.5039\n",
      "Epoch 80/100\n",
      "2/2 [==============================] - 0s 1ms/step - loss: 14.8945 - mae: 14.8945\n",
      "Epoch 81/100\n",
      "2/2 [==============================] - 0s 2ms/step - loss: 9.0034 - mae: 9.0034\n",
      "Epoch 82/100\n",
      "2/2 [==============================] - 0s 1ms/step - loss: 13.0206 - mae: 13.0206\n",
      "Epoch 83/100\n",
      "2/2 [==============================] - 0s 1ms/step - loss: 7.9299 - mae: 7.9299\n",
      "Epoch 84/100\n",
      "2/2 [==============================] - 0s 926us/step - loss: 7.6872 - mae: 7.6872\n",
      "Epoch 85/100\n",
      "2/2 [==============================] - 0s 827us/step - loss: 10.0328 - mae: 10.0328\n",
      "Epoch 86/100\n",
      "2/2 [==============================] - 0s 3ms/step - loss: 9.2433 - mae: 9.2433\n",
      "Epoch 87/100\n",
      "2/2 [==============================] - 0s 973us/step - loss: 12.0209 - mae: 12.0209\n",
      "Epoch 88/100\n",
      "2/2 [==============================] - 0s 2ms/step - loss: 10.6389 - mae: 10.6389\n",
      "Epoch 89/100\n",
      "2/2 [==============================] - 0s 3ms/step - loss: 7.2667 - mae: 7.2667\n",
      "Epoch 90/100\n",
      "2/2 [==============================] - 0s 1ms/step - loss: 12.7786 - mae: 12.7786\n",
      "Epoch 91/100\n",
      "2/2 [==============================] - 0s 2ms/step - loss: 7.3481 - mae: 7.3481\n",
      "Epoch 92/100\n",
      "2/2 [==============================] - 0s 1ms/step - loss: 7.7175 - mae: 7.7175\n",
      "Epoch 93/100\n",
      "2/2 [==============================] - 0s 1ms/step - loss: 7.1263 - mae: 7.1263\n",
      "Epoch 94/100\n",
      "2/2 [==============================] - 0s 944us/step - loss: 12.6190 - mae: 12.6190\n",
      "Epoch 95/100\n",
      "2/2 [==============================] - 0s 966us/step - loss: 10.0912 - mae: 10.0912\n",
      "Epoch 96/100\n",
      "2/2 [==============================] - 0s 1ms/step - loss: 9.3558 - mae: 9.3558\n",
      "Epoch 97/100\n",
      "2/2 [==============================] - 0s 994us/step - loss: 12.6834 - mae: 12.6834\n",
      "Epoch 98/100\n",
      "2/2 [==============================] - 0s 863us/step - loss: 8.6762 - mae: 8.6762\n",
      "Epoch 99/100\n",
      "2/2 [==============================] - 0s 875us/step - loss: 9.4693 - mae: 9.4693\n",
      "Epoch 100/100\n",
      "2/2 [==============================] - 0s 1ms/step - loss: 8.7067 - mae: 8.7067\n"
     ]
    },
    {
     "data": {
      "text/plain": [
       "<keras.callbacks.History at 0x16a16fa90>"
      ]
     },
     "execution_count": 40,
     "metadata": {},
     "output_type": "execute_result"
    }
   ],
   "source": [
    "# Experiment 1:\n",
    "tf.random.set_seed(42)\n",
    "\n",
    "model_1 = tf.keras.Sequential([\n",
    "    tf.keras.layers.Dense(1)\n",
    "])\n",
    "\n",
    "model_1.compile(loss=tf.keras.losses.mae, optimizer = tf.keras.optimizers.SGD(), metrics=[\"mae\"])\n",
    "\n",
    "model_1.fit(tf.expand_dims(X_train, axis=-1), y_train, epochs=100)"
   ]
  },
  {
   "cell_type": "code",
   "execution_count": 42,
   "metadata": {},
   "outputs": [
    {
     "data": {
      "image/png": "[encoded data removed]",
      "text/plain": [
       "<Figure size 720x504 with 1 Axes>"
      ]
     },
     "metadata": {
      "needs_background": "light"
     },
     "output_type": "display_data"
    }
   ],
   "source": [
    "# Make and Plot predictions for Model 1:\n",
    "y_pred_1 = model_1.predict(X_test)\n",
    "\n",
    "plot_prediction(predictions=y_pred_1)"
   ]
  },
  {
   "cell_type": "code",
   "execution_count": 46,
   "metadata": {},
   "outputs": [
    {
     "data": {
      "text/plain": [
       "(<tf.Tensor: shape=(), dtype=float32, numpy=18.745327>,\n",
       " <tf.Tensor: shape=(), dtype=float32, numpy=353.57336>)"
      ]
     },
     "execution_count": 46,
     "metadata": {},
     "output_type": "execute_result"
    }
   ],
   "source": [
    "# Evaluation Metrics:\n",
    "mae_1 = mae(y_test, y_pred_1)\n",
    "mse_1 = mse(y_test, y_pred_1)\n",
    "\n",
    "mae_1, mse_1"
   ]
  },
  {
   "cell_type": "markdown",
   "metadata": {},
   "source": [
    "#### Model 2:\n",
    "2 Dense Layers trained for 100 Epochs"
   ]
  },
  {
   "cell_type": "code",
   "execution_count": 47,
   "metadata": {},
   "outputs": [
    {
     "name": "stdout",
     "output_type": "stream",
     "text": [
      "Epoch 1/100\n",
      "2/2 [==============================] - 0s 1ms/step - loss: 27.4058 - mse: 1084.1482\n",
      "Epoch 2/100\n",
      "2/2 [==============================] - 0s 742us/step - loss: 24.6339 - mse: 777.9203\n",
      "Epoch 3/100\n",
      "2/2 [==============================] - 0s 1ms/step - loss: 29.8935 - mse: 1334.8955\n",
      "Epoch 4/100\n",
      "2/2 [==============================] - 0s 1ms/step - loss: 27.4055 - mse: 1106.8032\n",
      "Epoch 5/100\n",
      "2/2 [==============================] - 0s 1ms/step - loss: 14.9463 - mse: 281.1076\n",
      "Epoch 6/100\n",
      "2/2 [==============================] - 0s 883us/step - loss: 11.8819 - mse: 168.6621\n",
      "Epoch 7/100\n",
      "2/2 [==============================] - 0s 949us/step - loss: 11.1988 - mse: 151.3508\n",
      "Epoch 8/100\n",
      "2/2 [==============================] - 0s 1ms/step - loss: 11.0910 - mse: 160.3745\n",
      "Epoch 9/100\n",
      "2/2 [==============================] - 0s 1ms/step - loss: 40.4763 - mse: 2586.0083\n",
      "Epoch 10/100\n",
      "2/2 [==============================] - 0s 925us/step - loss: 27.8687 - mse: 1094.4380\n",
      "Epoch 11/100\n",
      "2/2 [==============================] - 0s 1ms/step - loss: 10.2473 - mse: 147.9359\n",
      "Epoch 12/100\n",
      "2/2 [==============================] - 0s 1ms/step - loss: 25.2803 - mse: 890.3867\n",
      "Epoch 13/100\n",
      "2/2 [==============================] - 0s 939us/step - loss: 16.9897 - mse: 399.9678\n",
      "Epoch 14/100\n",
      "2/2 [==============================] - 0s 1ms/step - loss: 25.9217 - mse: 1049.5515\n",
      "Epoch 15/100\n",
      "2/2 [==============================] - 0s 802us/step - loss: 17.9948 - mse: 450.2581\n",
      "Epoch 16/100\n",
      "2/2 [==============================] - 0s 1ms/step - loss: 7.3510 - mse: 80.6206\n",
      "Epoch 17/100\n",
      "2/2 [==============================] - 0s 1ms/step - loss: 10.8636 - mse: 174.7868\n",
      "Epoch 18/100\n",
      "2/2 [==============================] - 0s 1ms/step - loss: 19.5304 - mse: 565.8052\n",
      "Epoch 19/100\n",
      "2/2 [==============================] - 0s 832us/step - loss: 10.3469 - mse: 167.7749\n",
      "Epoch 20/100\n",
      "2/2 [==============================] - 0s 979us/step - loss: 17.6985 - mse: 455.7095\n",
      "Epoch 21/100\n",
      "2/2 [==============================] - 0s 1ms/step - loss: 15.8984 - mse: 347.1929\n",
      "Epoch 22/100\n",
      "2/2 [==============================] - 0s 966us/step - loss: 14.1991 - mse: 285.1767\n",
      "Epoch 23/100\n",
      "2/2 [==============================] - 0s 1ms/step - loss: 8.7720 - mse: 91.7852\n",
      "Epoch 24/100\n",
      "2/2 [==============================] - 0s 1ms/step - loss: 11.0570 - mse: 153.7430\n",
      "Epoch 25/100\n",
      "2/2 [==============================] - 0s 1ms/step - loss: 12.6838 - mse: 233.2950\n",
      "Epoch 26/100\n",
      "2/2 [==============================] - 0s 930us/step - loss: 26.1877 - mse: 1024.6094\n",
      "Epoch 27/100\n",
      "2/2 [==============================] - 0s 1ms/step - loss: 11.7432 - mse: 194.8453\n",
      "Epoch 28/100\n",
      "2/2 [==============================] - 0s 2ms/step - loss: 22.8730 - mse: 835.6068\n",
      "Epoch 29/100\n",
      "2/2 [==============================] - 0s 1ms/step - loss: 9.2459 - mse: 96.7787\n",
      "Epoch 30/100\n",
      "2/2 [==============================] - 0s 1ms/step - loss: 29.2641 - mse: 1535.1335\n",
      "Epoch 31/100\n",
      "2/2 [==============================] - 0s 1ms/step - loss: 53.0224 - mse: 5030.2944\n",
      "Epoch 32/100\n",
      "2/2 [==============================] - 0s 2ms/step - loss: 11.9951 - mse: 211.7022\n",
      "Epoch 33/100\n",
      "2/2 [==============================] - 0s 969us/step - loss: 15.6357 - mse: 337.3663\n",
      "Epoch 34/100\n",
      "2/2 [==============================] - 0s 1ms/step - loss: 12.6925 - mse: 214.4821\n",
      "Epoch 35/100\n",
      "2/2 [==============================] - 0s 1ms/step - loss: 9.2398 - mse: 92.9126\n",
      "Epoch 36/100\n",
      "2/2 [==============================] - 0s 1ms/step - loss: 16.6497 - mse: 403.6569\n",
      "Epoch 37/100\n",
      "2/2 [==============================] - 0s 1ms/step - loss: 11.0382 - mse: 192.3919\n",
      "Epoch 38/100\n",
      "2/2 [==============================] - 0s 1ms/step - loss: 18.1634 - mse: 433.6719\n",
      "Epoch 39/100\n",
      "2/2 [==============================] - 0s 1ms/step - loss: 19.1013 - mse: 529.6441\n",
      "Epoch 40/100\n",
      "2/2 [==============================] - 0s 1ms/step - loss: 20.4324 - mse: 610.1326\n",
      "Epoch 41/100\n",
      "2/2 [==============================] - 0s 1ms/step - loss: 14.9102 - mse: 279.6182\n",
      "Epoch 42/100\n",
      "2/2 [==============================] - 0s 799us/step - loss: 12.2809 - mse: 186.6178\n",
      "Epoch 43/100\n",
      "2/2 [==============================] - 0s 1ms/step - loss: 10.7333 - mse: 167.0950\n",
      "Epoch 44/100\n",
      "2/2 [==============================] - 0s 2ms/step - loss: 23.0260 - mse: 830.4240\n",
      "Epoch 45/100\n",
      "2/2 [==============================] - 0s 932us/step - loss: 10.3897 - mse: 128.9549\n",
      "Epoch 46/100\n",
      "2/2 [==============================] - 0s 1ms/step - loss: 11.7904 - mse: 181.9211\n",
      "Epoch 47/100\n",
      "2/2 [==============================] - 0s 1ms/step - loss: 9.6438 - mse: 153.8708\n",
      "Epoch 48/100\n",
      "2/2 [==============================] - 0s 1ms/step - loss: 17.2335 - mse: 402.8495\n",
      "Epoch 49/100\n",
      "2/2 [==============================] - 0s 997us/step - loss: 9.5729 - mse: 99.8336\n",
      "Epoch 50/100\n",
      "2/2 [==============================] - 0s 1ms/step - loss: 13.8185 - mse: 260.3669\n",
      "Epoch 51/100\n",
      "2/2 [==============================] - 0s 1ms/step - loss: 11.5958 - mse: 154.7955\n",
      "Epoch 52/100\n",
      "2/2 [==============================] - 0s 1ms/step - loss: 30.5538 - mse: 1613.0872\n",
      "Epoch 53/100\n",
      "2/2 [==============================] - 0s 931us/step - loss: 14.3541 - mse: 302.5291\n",
      "Epoch 54/100\n",
      "2/2 [==============================] - 0s 744us/step - loss: 23.9713 - mse: 859.3979\n",
      "Epoch 55/100\n",
      "2/2 [==============================] - 0s 890us/step - loss: 23.1938 - mse: 805.5442\n",
      "Epoch 56/100\n",
      "2/2 [==============================] - 0s 1ms/step - loss: 10.8837 - mse: 170.9834\n",
      "Epoch 57/100\n",
      "2/2 [==============================] - 0s 1ms/step - loss: 12.7445 - mse: 198.7013\n",
      "Epoch 58/100\n",
      "2/2 [==============================] - 0s 1ms/step - loss: 9.5995 - mse: 102.5890\n",
      "Epoch 59/100\n",
      "2/2 [==============================] - 0s 1ms/step - loss: 12.5172 - mse: 216.3366\n",
      "Epoch 60/100\n",
      "2/2 [==============================] - 0s 1ms/step - loss: 12.3200 - mse: 208.6369\n",
      "Epoch 61/100\n",
      "2/2 [==============================] - 0s 1ms/step - loss: 17.4604 - mse: 428.6391\n",
      "Epoch 62/100\n",
      "2/2 [==============================] - 0s 1ms/step - loss: 10.6052 - mse: 136.9776\n",
      "Epoch 63/100\n",
      "2/2 [==============================] - 0s 892us/step - loss: 10.4893 - mse: 152.4552\n",
      "Epoch 64/100\n",
      "2/2 [==============================] - 0s 1ms/step - loss: 24.8450 - mse: 911.7504\n",
      "Epoch 65/100\n",
      "2/2 [==============================] - 0s 1ms/step - loss: 10.6761 - mse: 142.7373\n",
      "Epoch 66/100\n",
      "2/2 [==============================] - 0s 1ms/step - loss: 21.7809 - mse: 704.4485\n",
      "Epoch 67/100\n",
      "2/2 [==============================] - 0s 889us/step - loss: 10.7136 - mse: 136.0193\n",
      "Epoch 68/100\n",
      "2/2 [==============================] - 0s 1ms/step - loss: 10.6397 - mse: 149.2299\n",
      "Epoch 69/100\n",
      "2/2 [==============================] - 0s 1ms/step - loss: 22.6914 - mse: 742.1759\n",
      "Epoch 70/100\n",
      "2/2 [==============================] - 0s 1ms/step - loss: 9.3316 - mse: 166.1628\n",
      "Epoch 71/100\n",
      "2/2 [==============================] - 0s 1ms/step - loss: 15.4355 - mse: 323.0844\n",
      "Epoch 72/100\n",
      "2/2 [==============================] - 0s 776us/step - loss: 6.7437 - mse: 67.0210\n",
      "Epoch 73/100\n",
      "2/2 [==============================] - 0s 986us/step - loss: 11.6891 - mse: 183.7296\n",
      "Epoch 74/100\n",
      "2/2 [==============================] - 0s 683us/step - loss: 24.0400 - mse: 908.8989\n",
      "Epoch 75/100\n",
      "2/2 [==============================] - 0s 1ms/step - loss: 9.5896 - mse: 149.3948\n",
      "Epoch 76/100\n",
      "2/2 [==============================] - 0s 2ms/step - loss: 12.4371 - mse: 188.3310\n",
      "Epoch 77/100\n",
      "2/2 [==============================] - 0s 1ms/step - loss: 16.6489 - mse: 429.2705\n",
      "Epoch 78/100\n",
      "2/2 [==============================] - 0s 1ms/step - loss: 9.0614 - mse: 95.4869\n",
      "Epoch 79/100\n",
      "2/2 [==============================] - 0s 1ms/step - loss: 23.9675 - mse: 864.0858\n",
      "Epoch 80/100\n",
      "2/2 [==============================] - 0s 1ms/step - loss: 26.7462 - mse: 1104.4026\n",
      "Epoch 81/100\n",
      "2/2 [==============================] - 0s 1ms/step - loss: 11.6714 - mse: 170.7055\n",
      "Epoch 82/100\n",
      "2/2 [==============================] - 0s 1ms/step - loss: 12.0228 - mse: 211.9191\n",
      "Epoch 83/100\n",
      "2/2 [==============================] - 0s 1ms/step - loss: 17.4218 - mse: 395.5589\n",
      "Epoch 84/100\n",
      "2/2 [==============================] - 0s 1ms/step - loss: 7.2629 - mse: 73.0935\n",
      "Epoch 85/100\n",
      "2/2 [==============================] - 0s 1ms/step - loss: 14.9650 - mse: 312.8361\n",
      "Epoch 86/100\n",
      "2/2 [==============================] - 0s 2ms/step - loss: 15.2862 - mse: 315.3605\n",
      "Epoch 87/100\n",
      "2/2 [==============================] - 0s 969us/step - loss: 19.1086 - mse: 521.2535\n",
      "Epoch 88/100\n",
      "2/2 [==============================] - 0s 1ms/step - loss: 29.8228 - mse: 1287.1902\n",
      "Epoch 89/100\n",
      "2/2 [==============================] - 0s 1ms/step - loss: 10.1742 - mse: 124.1342\n",
      "Epoch 90/100\n",
      "2/2 [==============================] - 0s 1ms/step - loss: 21.5240 - mse: 663.8610\n",
      "Epoch 91/100\n",
      "2/2 [==============================] - 0s 1ms/step - loss: 10.5716 - mse: 161.7467\n",
      "Epoch 92/100\n",
      "2/2 [==============================] - 0s 1ms/step - loss: 18.3977 - mse: 464.1327\n",
      "Epoch 93/100\n",
      "2/2 [==============================] - 0s 2ms/step - loss: 7.4138 - mse: 81.9820\n",
      "Epoch 94/100\n",
      "2/2 [==============================] - 0s 1ms/step - loss: 17.7380 - mse: 445.7380\n",
      "Epoch 95/100\n",
      "2/2 [==============================] - 0s 2ms/step - loss: 11.1144 - mse: 164.0822\n",
      "Epoch 96/100\n",
      "2/2 [==============================] - 0s 2ms/step - loss: 19.4346 - mse: 510.5844\n",
      "Epoch 97/100\n",
      "2/2 [==============================] - 0s 2ms/step - loss: 12.1593 - mse: 209.9756\n",
      "Epoch 98/100\n",
      "2/2 [==============================] - 0s 966us/step - loss: 11.5653 - mse: 169.4052\n",
      "Epoch 99/100\n",
      "2/2 [==============================] - 0s 1ms/step - loss: 13.8827 - mse: 265.4630\n",
      "Epoch 100/100\n",
      "2/2 [==============================] - 0s 1ms/step - loss: 20.2277 - mse: 608.8220\n"
     ]
    },
    {
     "data": {
      "text/plain": [
       "<keras.callbacks.History at 0x16a558a60>"
      ]
     },
     "execution_count": 47,
     "metadata": {},
     "output_type": "execute_result"
    }
   ],
   "source": [
    "tf.random.set_seed(42)\n",
    "\n",
    "model_2 = tf.keras.models.Sequential()\n",
    "\n",
    "model_2.add(tf.keras.layers.Dense(10))\n",
    "model_2.add(tf.keras.layers.Dense(1))\n",
    "\n",
    "model_2.compile(loss=tf.keras.losses.mae, optimizer=tf.keras.optimizers.SGD(), metrics=[\"mse\"])\n",
    "\n",
    "model_2.fit(tf.expand_dims(X_train, axis=-1), y_train, epochs=100)"
   ]
  },
  {
   "cell_type": "code",
   "execution_count": 48,
   "metadata": {},
   "outputs": [
    {
     "data": {
      "image/png": "[encoded data removed]",
      "text/plain": [
       "<Figure size 720x504 with 1 Axes>"
      ]
     },
     "metadata": {
      "needs_background": "light"
     },
     "output_type": "display_data"
    }
   ],
   "source": [
    "# Make and Plot predictions of model 2:\n",
    "y_preds_2 = model_2.predict(X_test)\n",
    "\n",
    "plot_prediction(predictions=y_preds_2)"
   ]
  },
  {
   "cell_type": "code",
   "execution_count": 50,
   "metadata": {},
   "outputs": [
    {
     "data": {
      "text/plain": [
       "(<tf.Tensor: shape=(), dtype=float32, numpy=3.196949>,\n",
       " <tf.Tensor: shape=(), dtype=float32, numpy=13.070193>)"
      ]
     },
     "execution_count": 50,
     "metadata": {},
     "output_type": "execute_result"
    }
   ],
   "source": [
    "# Model 2 Evaluation Metrics:\n",
    "mae_2 = mae(y_test, y_pred=y_preds_2)\n",
    "mse_2 = mse(y_test, y_pred=y_preds_2)\n",
    "\n",
    "mae_2, mse_2"
   ]
  },
  {
   "cell_type": "markdown",
   "metadata": {},
   "source": [
    "### Model 3:\n",
    "2 Dense layers, 500 epochs"
   ]
  },
  {
   "cell_type": "code",
   "execution_count": 51,
   "metadata": {},
   "outputs": [
    {
     "data": {
      "text/plain": [
       "<keras.callbacks.History at 0x16a93db20>"
      ]
     },
     "execution_count": 51,
     "metadata": {},
     "output_type": "execute_result"
    }
   ],
   "source": [
    "tf.random.set_seed(42)\n",
    "\n",
    "model_3 = tf.keras.Sequential()\n",
    "model_3.add(tf.keras.layers.Dense(10))\n",
    "model_3.add(tf.keras.layers.Dense(1))\n",
    "\n",
    "model_3.compile(loss=tf.keras.losses.mae, optimizer=tf.keras.optimizers.SGD(), metrics=[\"mse\"])\n",
    "\n",
    "model_3.fit(tf.expand_dims(X_train, axis=-1), y_train, epochs=500, verbose=0)"
   ]
  },
  {
   "cell_type": "code",
   "execution_count": 53,
   "metadata": {},
   "outputs": [
    {
     "data": {
      "image/png": "[encoded data removed]",
      "text/plain": [
       "<Figure size 720x504 with 1 Axes>"
      ]
     },
     "metadata": {
      "needs_background": "light"
     },
     "output_type": "display_data"
    }
   ],
   "source": [
    "# Visualising Predictions:\n",
    "\n",
    "y_preds_3 = model_3.predict(X_test)\n",
    "\n",
    "plot_prediction(predictions=y_preds_3)"
   ]
  },
  {
   "cell_type": "markdown",
   "metadata": {},
   "source": [
    "### Results:\n",
    "Model 3 Clearly was over trained, it learnt the training data to well and thus missed generalisation learning\n"
   ]
  },
  {
   "cell_type": "code",
   "execution_count": 57,
   "metadata": {},
   "outputs": [],
   "source": [
    "import pandas as pd\n",
    "\n"
   ]
  },
  {
   "cell_type": "markdown",
   "metadata": {},
   "source": [
    "## Saving Models:\n",
    "\n",
    "2 File formats, savedModel and HDF5 (Highrachical Data Format) format (.h5), which is universal, this allows for better passing aorund programs and functions"
   ]
  },
  {
   "cell_type": "code",
   "execution_count": 59,
   "metadata": {},
   "outputs": [
    {
     "name": "stdout",
     "output_type": "stream",
     "text": [
      "INFO:tensorflow:Assets written to: best_model_SaveModel_format/assets\n"
     ]
    },
    {
     "name": "stderr",
     "output_type": "stream",
     "text": [
      "2022-03-31 20:39:33.447225: W tensorflow/python/util/util.cc:368] Sets are not currently considered sequences, but this may change in the future, so consider avoiding using them.\n"
     ]
    }
   ],
   "source": [
    "model_2.save(\"best_model_HDF5_fromat.h5\")\n",
    "model_2.save(\"best_model_SaveModel_format\")"
   ]
  },
  {
   "cell_type": "markdown",
   "metadata": {},
   "source": [
    "### Loading Models:\n",
    "`tf.keras.models.load_model(path_to_model)`"
   ]
  },
  {
   "cell_type": "code",
   "execution_count": 61,
   "metadata": {},
   "outputs": [
    {
     "name": "stdout",
     "output_type": "stream",
     "text": [
      "Model: \"sequential_5\"\n",
      "_________________________________________________________________\n",
      " Layer (type)                Output Shape              Param #   \n",
      "=================================================================\n",
      " dense_5 (Dense)             (None, 10)                20        \n",
      "                                                                 \n",
      " dense_6 (Dense)             (None, 1)                 11        \n",
      "                                                                 \n",
      "=================================================================\n",
      "Total params: 31\n",
      "Trainable params: 31\n",
      "Non-trainable params: 0\n",
      "_________________________________________________________________\n"
     ]
    }
   ],
   "source": [
    "model_2_loaded_SavedModel_fromat = tf.keras.models.load_model(\"./best_model_SaveModel_format\")\n",
    "\n",
    "model_2_loaded_SavedModel_fromat.summary()"
   ]
  },
  {
   "cell_type": "code",
   "execution_count": 63,
   "metadata": {},
   "outputs": [
    {
     "name": "stdout",
     "output_type": "stream",
     "text": [
      "Model: \"sequential_5\"\n",
      "_________________________________________________________________\n",
      " Layer (type)                Output Shape              Param #   \n",
      "=================================================================\n",
      " dense_5 (Dense)             (None, 10)                20        \n",
      "                                                                 \n",
      " dense_6 (Dense)             (None, 1)                 11        \n",
      "                                                                 \n",
      "=================================================================\n",
      "Total params: 31\n",
      "Trainable params: 31\n",
      "Non-trainable params: 0\n",
      "_________________________________________________________________\n"
     ]
    }
   ],
   "source": [
    "model_2_HDF5_format = tf.keras.models.load_model(\"best_model_HDF5_fromat.h5\")\n",
    "model_2_HDF5_format.summary()"
   ]
  }
 ],
 "metadata": {
  "interpreter": {
   "hash": "2e4597d0768e28d95a0c075d0fa9a599a1e280d3a22fb0bb73315c9a22ec994a"
  },
  "kernelspec": {
   "display_name": "Python 3.9.12 ('tensorflow_learning')",
   "language": "python",
   "name": "python3"
  },
  "language_info": {
   "codemirror_mode": {
    "name": "ipython",
    "version": 3
   },
   "file_extension": ".py",
   "mimetype": "text/x-python",
   "name": "python",
   "nbconvert_exporter": "python",
   "pygments_lexer": "ipython3",
   "version": "3.9.12"
  },
  "orig_nbformat": 4
 },
 "nbformat": 4,
 "nbformat_minor": 2
}
